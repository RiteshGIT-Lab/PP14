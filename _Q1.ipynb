{
 "cells": [
  {
   "cell_type": "code",
   "execution_count": null,
   "id": "a19f8766",
   "metadata": {
    "vscode": {
     "languageId": "plaintext"
    }
   },
   "outputs": [],
   "source": [
    "import re\n",
    "\n",
    "def check_password_strength(password: str) -> bool:\n",
    "    # Minimum length\n",
    "    if len(password) < 8:\n",
    "        return False\n",
    "    # Uppercase and lowercase\n",
    "    if not re.search(r'[A-Z]', password):\n",
    "        return False\n",
    "    if not re.search(r'[a-z]', password):\n",
    "        return False\n",
    "    # Digit\n",
    "    if not re.search(r'\\d', password):\n",
    "        return False\n",
    "    # Special character\n",
    "    if not re.search(r'[!@#$%^&*(),.?\":{}|<>]', password):\n",
    "        return False\n",
    "    return True\n",
    "\n",
    "if __name__ == \"__main__\":\n",
    "    pwd = input(\"Enter your password: \")\n",
    "    if check_password_strength(pwd):\n",
    "        print(\"Strong password! ✅\")\n",
    "    else:\n",
    "        print(\"Weak password.  Please ensure it has:\\n\"\n",
    "              \"- At least 8 characters\\n\"\n",
    "              \"- Both uppercase and lowercase letters\\n\"\n",
    "              \"- At least one digit\\n\"\n",
    "              \"- At least one special character (!@#$%^&* etc.)\")"
   ]
  }
 ],
 "metadata": {
  "language_info": {
   "name": "python"
  }
 },
 "nbformat": 4,
 "nbformat_minor": 5
}
